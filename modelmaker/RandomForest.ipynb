{
 "cells": [
  {
   "cell_type": "code",
   "execution_count": 8,
   "metadata": {},
   "outputs": [],
   "source": [
    "import pandas as pd\n",
    "from sklearn.metrics import confusion_matrix, accuracy_score"
   ]
  },
  {
   "cell_type": "code",
   "execution_count": 2,
   "metadata": {},
   "outputs": [],
   "source": [
    "df = pd.read_csv(\"HTRU_2.csv\",header=None)"
   ]
  },
  {
   "cell_type": "code",
   "execution_count": 3,
   "metadata": {},
   "outputs": [],
   "source": [
    "X = df.iloc[:,:-1].values\n",
    "y = df.iloc[:,-1].values"
   ]
  },
  {
   "cell_type": "code",
   "execution_count": 4,
   "metadata": {},
   "outputs": [],
   "source": [
    "from sklearn.model_selection import train_test_split\n",
    "X_train, X_test, y_train, y_test = train_test_split(X, y, test_size=0.25, random_state=101)"
   ]
  },
  {
   "cell_type": "code",
   "execution_count": 5,
   "metadata": {},
   "outputs": [],
   "source": [
    "from sklearn.preprocessing import StandardScaler\n",
    "sc = StandardScaler()\n",
    "X_train_scaled = sc.fit_transform(X_train)\n",
    "X_test_scaled = sc.transform(X_test)"
   ]
  },
  {
   "cell_type": "code",
   "execution_count": 6,
   "metadata": {},
   "outputs": [
    {
     "data": {
      "text/plain": [
       "RandomForestClassifier(max_depth=110, max_features=4, min_samples_split=5,\n",
       "                       n_estimators=200)"
      ]
     },
     "execution_count": 6,
     "metadata": {},
     "output_type": "execute_result"
    }
   ],
   "source": [
    "from sklearn.ensemble import RandomForestClassifier\n",
    "rfc = RandomForestClassifier(n_estimators=200,min_samples_split=5,max_features=4,max_depth=110)\n",
    "rfc.fit(X_train,y_train)"
   ]
  },
  {
   "cell_type": "code",
   "execution_count": 7,
   "metadata": {},
   "outputs": [],
   "source": [
    "y_pred = rfc.predict(X_test)"
   ]
  },
  {
   "cell_type": "code",
   "execution_count": 25,
   "metadata": {},
   "outputs": [
    {
     "name": "stdout",
     "output_type": "stream",
     "text": [
      "[[4074   26]\n",
      " [  44  331]]\n"
     ]
    },
    {
     "data": {
      "text/plain": [
       "0.9843575418994414"
      ]
     },
     "execution_count": 25,
     "metadata": {},
     "output_type": "execute_result"
    }
   ],
   "source": [
    "cm = confusion_matrix(y_test, y_pred)\n",
    "print(cm)\n",
    "accuracy_score(y_test, y_pred)\n",
    "#~92% TPR"
   ]
  },
  {
   "cell_type": "code",
   "execution_count": 27,
   "metadata": {},
   "outputs": [
    {
     "data": {
      "text/plain": [
       "26"
      ]
     },
     "execution_count": 27,
     "metadata": {},
     "output_type": "execute_result"
    }
   ],
   "source": [
    "cm[0][1]"
   ]
  },
  {
   "cell_type": "code",
   "execution_count": 18,
   "metadata": {},
   "outputs": [],
   "source": [
    "predicted = rfc.predict_proba(X_test)"
   ]
  },
  {
   "cell_type": "code",
   "execution_count": 19,
   "metadata": {},
   "outputs": [],
   "source": [
    "predicted = (predicted[:,1]>=.4).astype('int')"
   ]
  },
  {
   "cell_type": "code",
   "execution_count": 20,
   "metadata": {},
   "outputs": [
    {
     "data": {
      "text/plain": [
       "array([0, 0, 0, ..., 0, 0, 0])"
      ]
     },
     "execution_count": 20,
     "metadata": {},
     "output_type": "execute_result"
    }
   ],
   "source": [
    "predicted"
   ]
  },
  {
   "cell_type": "code",
   "execution_count": 21,
   "metadata": {},
   "outputs": [
    {
     "name": "stdout",
     "output_type": "stream",
     "text": [
      "[[4065   35]\n",
      " [  41  334]]\n"
     ]
    },
    {
     "data": {
      "text/plain": [
       "0.9830167597765364"
      ]
     },
     "execution_count": 21,
     "metadata": {},
     "output_type": "execute_result"
    }
   ],
   "source": [
    "cm = confusion_matrix(y_test, predicted)\n",
    "print(cm)\n",
    "accuracy_score(y_test, predicted)"
   ]
  },
  {
   "cell_type": "code",
   "execution_count": 22,
   "metadata": {},
   "outputs": [],
   "source": [
    "#1. make a list of valuers evenly spaced between 0 and 100\n",
    "#2. make a for loop that iterates through the list\n",
    "#3. For each iteration I need to collect the model accuracy, TPR, difference between them, and the value of the list"
   ]
  },
  {
   "cell_type": "code",
   "execution_count": 54,
   "metadata": {},
   "outputs": [],
   "source": [
    "temp_list = [.05,.1,.15,.2,.25,.3,.35,.4,.45,.5,.55,.6,.65,.7,.75,.8,.85,.9,.95]\n",
    "acc_lst = []\n",
    "tpr_lst = []\n",
    "diff_lst = []\n",
    "thresh_lst = []\n",
    "for thresh in temp_list:\n",
    "    pred_prob = rfc.predict_proba(X_test)\n",
    "    pred_prob = (pred_prob[:,1]>=thresh).astype('int')\n",
    "    cm = confusion_matrix(y_test, pred_prob)\n",
    "    acc_lst.append(accuracy_score(y_test, pred_prob))\n",
    "    tpr_lst.append(cm[1][1]/(cm[1][1]+cm[0][1]))\n",
    "    thresh_lst.append(thresh)"
   ]
  },
  {
   "cell_type": "code",
   "execution_count": 55,
   "metadata": {},
   "outputs": [
    {
     "data": {
      "text/plain": [
       "[0.9318435754189944,\n",
       " 0.9629050279329608,\n",
       " 0.972513966480447,\n",
       " 0.9754189944134078,\n",
       " 0.977877094972067,\n",
       " 0.9801117318435755,\n",
       " 0.9816759776536312,\n",
       " 0.9830167597765364,\n",
       " 0.9841340782122905,\n",
       " 0.9843575418994414,\n",
       " 0.9839106145251396,\n",
       " 0.9832402234636871,\n",
       " 0.9825698324022346,\n",
       " 0.9825698324022346,\n",
       " 0.9818994413407821,\n",
       " 0.9818994413407821,\n",
       " 0.9787709497206704,\n",
       " 0.9756424581005586,\n",
       " 0.9693854748603352]"
      ]
     },
     "execution_count": 55,
     "metadata": {},
     "output_type": "execute_result"
    }
   ],
   "source": [
    "acc_lst"
   ]
  },
  {
   "cell_type": "code",
   "execution_count": 56,
   "metadata": {},
   "outputs": [
    {
     "data": {
      "text/plain": [
       "[0.5550314465408805,\n",
       " 0.7172557172557172,\n",
       " 0.7889908256880734,\n",
       " 0.8177458033573142,\n",
       " 0.8415841584158416,\n",
       " 0.8685567010309279,\n",
       " 0.8865435356200527,\n",
       " 0.9051490514905149,\n",
       " 0.919889502762431,\n",
       " 0.927170868347339,\n",
       " 0.9316239316239316,\n",
       " 0.936046511627907,\n",
       " 0.9406528189910979,\n",
       " 0.9459459459459459,\n",
       " 0.9537037037037037,\n",
       " 0.9681528662420382,\n",
       " 0.972972972972973,\n",
       " 0.9784172661870504,\n",
       " 0.983739837398374]"
      ]
     },
     "execution_count": 56,
     "metadata": {},
     "output_type": "execute_result"
    }
   ],
   "source": [
    "tpr_lst"
   ]
  },
  {
   "cell_type": "code",
   "execution_count": 57,
   "metadata": {},
   "outputs": [
    {
     "data": {
      "text/plain": [
       "[0.05,\n",
       " 0.1,\n",
       " 0.15,\n",
       " 0.2,\n",
       " 0.25,\n",
       " 0.3,\n",
       " 0.35,\n",
       " 0.4,\n",
       " 0.45,\n",
       " 0.5,\n",
       " 0.55,\n",
       " 0.6,\n",
       " 0.65,\n",
       " 0.7,\n",
       " 0.75,\n",
       " 0.8,\n",
       " 0.85,\n",
       " 0.9,\n",
       " 0.95]"
      ]
     },
     "execution_count": 57,
     "metadata": {},
     "output_type": "execute_result"
    }
   ],
   "source": [
    "thresh_lst"
   ]
  },
  {
   "cell_type": "code",
   "execution_count": 59,
   "metadata": {},
   "outputs": [],
   "source": [
    "import numpy as np\n",
    "arr = np.linspace(0.01,1,40)"
   ]
  },
  {
   "cell_type": "code",
   "execution_count": 60,
   "metadata": {
    "scrolled": true
   },
   "outputs": [
    {
     "data": {
      "text/plain": [
       "[0.01,\n",
       " 0.03538461538461538,\n",
       " 0.06076923076923077,\n",
       " 0.08615384615384615,\n",
       " 0.11153846153846153,\n",
       " 0.13692307692307693,\n",
       " 0.16230769230769232,\n",
       " 0.18769230769230769,\n",
       " 0.21307692307692308,\n",
       " 0.23846153846153847,\n",
       " 0.26384615384615384,\n",
       " 0.28923076923076924,\n",
       " 0.31461538461538463,\n",
       " 0.34,\n",
       " 0.36538461538461536,\n",
       " 0.39076923076923076,\n",
       " 0.41615384615384615,\n",
       " 0.44153846153846155,\n",
       " 0.46692307692307694,\n",
       " 0.4923076923076923,\n",
       " 0.5176923076923077,\n",
       " 0.5430769230769231,\n",
       " 0.5684615384615385,\n",
       " 0.5938461538461538,\n",
       " 0.6192307692307693,\n",
       " 0.6446153846153846,\n",
       " 0.67,\n",
       " 0.6953846153846154,\n",
       " 0.7207692307692307,\n",
       " 0.7461538461538462,\n",
       " 0.7715384615384615,\n",
       " 0.796923076923077,\n",
       " 0.8223076923076923,\n",
       " 0.8476923076923076,\n",
       " 0.8730769230769231,\n",
       " 0.8984615384615384,\n",
       " 0.9238461538461539,\n",
       " 0.9492307692307692,\n",
       " 0.9746153846153846,\n",
       " 1.0]"
      ]
     },
     "execution_count": 60,
     "metadata": {},
     "output_type": "execute_result"
    }
   ],
   "source": [
    "t_list = arr.tolist()\n",
    "t_list"
   ]
  },
  {
   "cell_type": "code",
   "execution_count": 61,
   "metadata": {
    "scrolled": true
   },
   "outputs": [
    {
     "name": "stdout",
     "output_type": "stream",
     "text": [
      "0.01\n",
      "0.03538461538461538\n",
      "0.06076923076923077\n",
      "0.08615384615384615\n",
      "0.11153846153846153\n",
      "0.13692307692307693\n",
      "0.16230769230769232\n",
      "0.18769230769230769\n",
      "0.21307692307692308\n",
      "0.23846153846153847\n",
      "0.26384615384615384\n",
      "0.28923076923076924\n",
      "0.31461538461538463\n",
      "0.34\n",
      "0.36538461538461536\n",
      "0.39076923076923076\n",
      "0.41615384615384615\n",
      "0.44153846153846155\n",
      "0.46692307692307694\n",
      "0.4923076923076923\n",
      "0.5176923076923077\n",
      "0.5430769230769231\n",
      "0.5684615384615385\n",
      "0.5938461538461538\n",
      "0.6192307692307693\n",
      "0.6446153846153846\n",
      "0.67\n",
      "0.6953846153846154\n",
      "0.7207692307692307\n",
      "0.7461538461538462\n",
      "0.7715384615384615\n",
      "0.796923076923077\n",
      "0.8223076923076923\n",
      "0.8476923076923076\n",
      "0.8730769230769231\n",
      "0.8984615384615384\n",
      "0.9238461538461539\n",
      "0.9492307692307692\n",
      "0.9746153846153846\n",
      "1.0\n"
     ]
    }
   ],
   "source": [
    "acc_lst = []\n",
    "tpr_lst = []\n",
    "diff_lst = []\n",
    "thresh_lst = []\n",
    "for thresh in t_list:\n",
    "    pred_prob = []\n",
    "    pred_prob = rfc.predict_proba(X_test)\n",
    "    pred_prob = (pred_prob[:,1]>=thresh).astype('int')\n",
    "    cm = confusion_matrix(y_test, pred_prob)\n",
    "    acc_lst.append(accuracy_score(y_test, pred_prob))\n",
    "    tpr_lst.append(cm[1][1]/(cm[1][1]+cm[0][1]))\n",
    "    thresh_lst.append(thresh)\n",
    "    print(thresh)"
   ]
  },
  {
   "cell_type": "code",
   "execution_count": 62,
   "metadata": {
    "scrolled": true
   },
   "outputs": [
    {
     "data": {
      "text/plain": [
       "[0.7322905027932961,\n",
       " 0.9027932960893855,\n",
       " 0.9439106145251397,\n",
       " 0.9582122905027933,\n",
       " 0.965586592178771,\n",
       " 0.9702793296089386,\n",
       " 0.9731843575418995,\n",
       " 0.9749720670391061,\n",
       " 0.9763128491620112,\n",
       " 0.9772067039106145,\n",
       " 0.9789944134078212,\n",
       " 0.9798882681564246,\n",
       " 0.980782122905028,\n",
       " 0.9812290502793296,\n",
       " 0.982122905027933,\n",
       " 0.9825698324022346,\n",
       " 0.9832402234636871,\n",
       " 0.9836871508379889,\n",
       " 0.9839106145251396,\n",
       " 0.9839106145251396,\n",
       " 0.9841340782122905,\n",
       " 0.9839106145251396,\n",
       " 0.9832402234636871,\n",
       " 0.9832402234636871,\n",
       " 0.9832402234636871,\n",
       " 0.9827932960893855,\n",
       " 0.9825698324022346,\n",
       " 0.9825698324022346,\n",
       " 0.982122905027933,\n",
       " 0.9816759776536312,\n",
       " 0.9823463687150839,\n",
       " 0.982122905027933,\n",
       " 0.9810055865921787,\n",
       " 0.9787709497206704,\n",
       " 0.9774301675977654,\n",
       " 0.9760893854748603,\n",
       " 0.9729608938547486,\n",
       " 0.9696089385474861,\n",
       " 0.965586592178771,\n",
       " 0.9465921787709497]"
      ]
     },
     "execution_count": 62,
     "metadata": {},
     "output_type": "execute_result"
    }
   ],
   "source": [
    "acc_lst"
   ]
  },
  {
   "cell_type": "code",
   "execution_count": 63,
   "metadata": {
    "scrolled": true
   },
   "outputs": [
    {
     "data": {
      "text/plain": [
       "[0.23604874919820398,\n",
       " 0.461038961038961,\n",
       " 0.6068965517241379,\n",
       " 0.6857707509881423,\n",
       " 0.7356076759061834,\n",
       " 0.7713004484304933,\n",
       " 0.7972027972027972,\n",
       " 0.8138424821002387,\n",
       " 0.8256658595641646,\n",
       " 0.8353808353808354,\n",
       " 0.8521303258145363,\n",
       " 0.8644501278772379,\n",
       " 0.8753246753246753,\n",
       " 0.8798955613577023,\n",
       " 0.8933333333333333,\n",
       " 0.9002695417789758,\n",
       " 0.907608695652174,\n",
       " 0.9148351648351648,\n",
       " 0.9196675900277008,\n",
       " 0.9196675900277008,\n",
       " 0.9269662921348315,\n",
       " 0.9316239316239316,\n",
       " 0.9310344827586207,\n",
       " 0.9335260115606936,\n",
       " 0.9411764705882353,\n",
       " 0.9408284023668639,\n",
       " 0.9406528189910979,\n",
       " 0.9459459459459459,\n",
       " 0.9483282674772037,\n",
       " 0.9507692307692308,\n",
       " 0.9625,\n",
       " 0.9682539682539683,\n",
       " 0.9707792207792207,\n",
       " 0.9697986577181208,\n",
       " 0.9790209790209791,\n",
       " 0.9785714285714285,\n",
       " 0.9774436090225563,\n",
       " 0.9838056680161943,\n",
       " 0.9911111111111112,\n",
       " 1.0]"
      ]
     },
     "execution_count": 63,
     "metadata": {},
     "output_type": "execute_result"
    }
   ],
   "source": [
    "tpr_lst"
   ]
  },
  {
   "cell_type": "code",
   "execution_count": 64,
   "metadata": {},
   "outputs": [],
   "source": [
    "random_forest = pd.DataFrame(\n",
    "    {\n",
    "        'Threshold':thresh_lst,\n",
    "        'Accuracy':acc_lst,\n",
    "        'Sensitivity':tpr_lst\n",
    "    })"
   ]
  },
  {
   "cell_type": "code",
   "execution_count": 65,
   "metadata": {},
   "outputs": [
    {
     "data": {
      "text/html": [
       "<div>\n",
       "<style scoped>\n",
       "    .dataframe tbody tr th:only-of-type {\n",
       "        vertical-align: middle;\n",
       "    }\n",
       "\n",
       "    .dataframe tbody tr th {\n",
       "        vertical-align: top;\n",
       "    }\n",
       "\n",
       "    .dataframe thead th {\n",
       "        text-align: right;\n",
       "    }\n",
       "</style>\n",
       "<table border=\"1\" class=\"dataframe\">\n",
       "  <thead>\n",
       "    <tr style=\"text-align: right;\">\n",
       "      <th></th>\n",
       "      <th>Threshold</th>\n",
       "      <th>Accuracy</th>\n",
       "      <th>Sensitivity</th>\n",
       "    </tr>\n",
       "  </thead>\n",
       "  <tbody>\n",
       "    <tr>\n",
       "      <th>0</th>\n",
       "      <td>0.010000</td>\n",
       "      <td>0.732291</td>\n",
       "      <td>0.236049</td>\n",
       "    </tr>\n",
       "    <tr>\n",
       "      <th>1</th>\n",
       "      <td>0.035385</td>\n",
       "      <td>0.902793</td>\n",
       "      <td>0.461039</td>\n",
       "    </tr>\n",
       "    <tr>\n",
       "      <th>2</th>\n",
       "      <td>0.060769</td>\n",
       "      <td>0.943911</td>\n",
       "      <td>0.606897</td>\n",
       "    </tr>\n",
       "    <tr>\n",
       "      <th>3</th>\n",
       "      <td>0.086154</td>\n",
       "      <td>0.958212</td>\n",
       "      <td>0.685771</td>\n",
       "    </tr>\n",
       "    <tr>\n",
       "      <th>4</th>\n",
       "      <td>0.111538</td>\n",
       "      <td>0.965587</td>\n",
       "      <td>0.735608</td>\n",
       "    </tr>\n",
       "  </tbody>\n",
       "</table>\n",
       "</div>"
      ],
      "text/plain": [
       "   Threshold  Accuracy  Sensitivity\n",
       "0   0.010000  0.732291     0.236049\n",
       "1   0.035385  0.902793     0.461039\n",
       "2   0.060769  0.943911     0.606897\n",
       "3   0.086154  0.958212     0.685771\n",
       "4   0.111538  0.965587     0.735608"
      ]
     },
     "execution_count": 65,
     "metadata": {},
     "output_type": "execute_result"
    }
   ],
   "source": [
    "random_forest.head()"
   ]
  },
  {
   "cell_type": "code",
   "execution_count": null,
   "metadata": {},
   "outputs": [],
   "source": [
    "random_forest['Diff']"
   ]
  }
 ],
 "metadata": {
  "kernelspec": {
   "display_name": "Python 3",
   "language": "python",
   "name": "python3"
  },
  "language_info": {
   "codemirror_mode": {
    "name": "ipython",
    "version": 3
   },
   "file_extension": ".py",
   "mimetype": "text/x-python",
   "name": "python",
   "nbconvert_exporter": "python",
   "pygments_lexer": "ipython3",
   "version": "3.8.3"
  }
 },
 "nbformat": 4,
 "nbformat_minor": 4
}
