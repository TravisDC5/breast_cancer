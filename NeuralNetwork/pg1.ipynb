{
 "cells": [
  {
   "cell_type": "code",
   "execution_count": 1,
   "metadata": {},
   "outputs": [],
   "source": [
    "#Import the libraries\n",
    "import numpy as np\n",
    "import torch\n",
    "import torchvision.transforms as transforms"
   ]
  },
  {
   "cell_type": "code",
   "execution_count": 2,
   "metadata": {},
   "outputs": [
    {
     "name": "stdout",
     "output_type": "stream",
     "text": [
      "Downloading http://www.jb.man.ac.uk/research/ascaife/htru1-batches-py.tar.gz to data\\htru1-batches-py.tar.gz\n"
     ]
    },
    {
     "data": {
      "application/vnd.jupyter.widget-view+json": {
       "model_id": "7e535282bb1249e680fec0ecc99f76be",
       "version_major": 2,
       "version_minor": 0
      },
      "text/plain": [
       "HBox(children=(FloatProgress(value=1.0, bar_style='info', max=1.0), HTML(value='')))"
      ]
     },
     "metadata": {},
     "output_type": "display_data"
    },
    {
     "name": "stdout",
     "output_type": "stream",
     "text": [
      "Files already downloaded and verified\n"
     ]
    }
   ],
   "source": [
    "#import the data\n",
    "from htru1 import HTRU1\n",
    "\n",
    "#Transforms the data. This seems like a required step as I kepts getting errors if I did not include it\n",
    "transform = transforms.Compose([\n",
    "    transforms.RandomHorizontalFlip(), # randomly flip and rotate\n",
    "    transforms.RandomRotation(10),\n",
    "    transforms.ToTensor(),\n",
    "    transforms.Normalize((0.5, 0.5, 0.5), (0.5, 0.5, 0.5))\n",
    "    ])\n",
    "\n",
    "#Specifically import the training data and test data\n",
    "train_data = HTRU1('data', train=True, download=True, transform=transform)\n",
    "test_data = HTRU1('data', train=False, download=True, transform=transform)\n",
    "\n",
    "#Variable setup to extract the data\n",
    "trainloader = torch.utils.data.DataLoader(train_data, batch_size=50000, shuffle=True, num_workers=2)\n",
    "testloader = torch.utils.data.DataLoader(test_data, batch_size=10000, shuffle=True, num_workers=2)\n",
    "\n",
    "#Extracts the data into the features and the labels\n",
    "dataiter = iter(trainloader)\n",
    "train_tensor_images, train_tensor_labels = dataiter.next()\n",
    "dataiter = iter(testloader)\n",
    "test_tensor_images, test_tensor_labels = dataiter.next()\n",
    "\n",
    "#Converts the data to np arrays (found them easier to work with)\n",
    "train_features = np.array(train_tensor_images)\n",
    "train_label = np.array(train_tensor_labels)\n",
    "test_features = np.array(test_tensor_images)\n",
    "test_label = np.array(test_tensor_labels)"
   ]
  },
  {
   "cell_type": "code",
   "execution_count": null,
   "metadata": {},
   "outputs": [],
   "source": []
  }
 ],
 "metadata": {
  "kernelspec": {
   "display_name": "Python 3",
   "language": "python",
   "name": "python3"
  },
  "language_info": {
   "codemirror_mode": {
    "name": "ipython",
    "version": 3
   },
   "file_extension": ".py",
   "mimetype": "text/x-python",
   "name": "python",
   "nbconvert_exporter": "python",
   "pygments_lexer": "ipython3",
   "version": "3.8.3"
  }
 },
 "nbformat": 4,
 "nbformat_minor": 4
}
