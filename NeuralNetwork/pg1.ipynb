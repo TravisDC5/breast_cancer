{
 "cells": [
  {
   "cell_type": "code",
   "execution_count": null,
   "metadata": {},
   "outputs": [],
   "source": [
    "#Import the libraries\n",
    "import numpy as np\n",
    "import torch\n",
    "import torchvision.transforms as transforms"
   ]
  },
  {
   "cell_type": "code",
   "execution_count": null,
   "metadata": {},
   "outputs": [],
   "source": [
    "#import the data\n",
    "from htru1 import HTRU1\n",
    "\n",
    "#Transforms the data. This seems like a required step as I kepts getting errors if I did not include it\n",
    "transform = transforms.Compose([\n",
    "    transforms.RandomHorizontalFlip(), # randomly flip and rotate\n",
    "    transforms.RandomRotation(10),\n",
    "    transforms.ToTensor(),\n",
    "    transforms.Normalize((0.5, 0.5, 0.5), (0.5, 0.5, 0.5))\n",
    "    ])\n",
    "\n",
    "#Specifically import the training data and test data\n",
    "train_data = HTRU1('data', train=True, download=True, transform=transform)\n",
    "test_data = HTRU1('data', train=False, download=True, transform=transform)\n",
    "\n",
    "#Variable setup to extract the data\n",
    "trainloader = torch.utils.data.DataLoader(train_data, batch_size=50000, shuffle=True, num_workers=2)\n",
    "testloader = torch.utils.data.DataLoader(test_data, batch_size=10000, shuffle=True, num_workers=2)\n",
    "\n",
    "#Extracts the data into the features and the labels\n",
    "dataiter = iter(trainloader)\n",
    "train_tensor_images, train_tensor_labels = dataiter.next()\n",
    "dataiter = iter(testloader)\n",
    "test_tensor_images, test_tensor_labels = dataiter.next()\n",
    "\n",
    "#Converts the data to np arrays (found them easier to work with)\n",
    "train_features = np.array(train_tensor_images)\n",
    "train_label = np.array(train_tensor_labels)\n",
    "test_features = np.array(test_tensor_images)\n",
    "test_label = np.array(test_tensor_labels)"
   ]
  },
  {
   "cell_type": "code",
   "execution_count": null,
   "metadata": {},
   "outputs": [],
   "source": [
    "#transformed the feates from (5000, 3, 32, 32) into (3, 5000, 32, 32)\n",
    "#essentiallys this splits out the different layers of the data since this isn't true RGB\n",
    "#I'm fairly confident this is doing what I expect it to but this could be a source of error\n",
    "train_features_t = np.transpose(train_features, (1,0,2,3))\n",
    "test_features_t = np.transpose(test_features, (1,0,2,3))"
   ]
  },
  {
   "cell_type": "code",
   "execution_count": null,
   "metadata": {},
   "outputs": [],
   "source": [
    "#Assigning each layer into their own variable\n",
    "train_layer1 = train_features_t[0]\n",
    "train_layer2 = train_features_t[1]\n",
    "train_layer3 = train_features_t[2]\n",
    "test_layer1 = test_features_t[0]\n",
    "test_layer2 = test_features_t[1]\n",
    "test_layer3 = test_features_t[2]"
   ]
  },
  {
   "cell_type": "code",
   "execution_count": null,
   "metadata": {},
   "outputs": [],
   "source": [
    "#Flattening the data\n",
    "ndims = train_layer1.shape[1] * train_layer1.shape[2]\n",
    "X_train = train_layer1.reshape(train_layer1.shape[0],ndims)\n",
    "X_test = test_layer1.reshape(test_layer1.shape[0],ndims)"
   ]
  },
  {
   "cell_type": "code",
   "execution_count": null,
   "metadata": {},
   "outputs": [],
   "source": [
    "train_label.shape"
   ]
  },
  {
   "cell_type": "code",
   "execution_count": null,
   "metadata": {},
   "outputs": [],
   "source": [
    "y_train = np.asarray(train_label).astype('float32').reshape((-1,1))"
   ]
  },
  {
   "cell_type": "code",
   "execution_count": null,
   "metadata": {},
   "outputs": [],
   "source": [
    "#Importing tensorflow\n",
    "import tensorflow as tf\n",
    "from tensorflow import keras\n",
    "from tensorflow.keras.models import Sequential\n",
    "from tensorflow.keras.layers import Dense"
   ]
  },
  {
   "cell_type": "code",
   "execution_count": null,
   "metadata": {},
   "outputs": [],
   "source": [
    "#Building the model\n",
    "model = Sequential()\n",
    "model.add(Dense(1024, activation='relu'))\n",
    "model.add(Dense(1, activation='sigmoid'))"
   ]
  },
  {
   "cell_type": "code",
   "execution_count": null,
   "metadata": {},
   "outputs": [],
   "source": [
    "#Compiling the model. I used binary_crossentropy since there are only 2 possible outputs\n",
    "model.compile(optimizer='adam',\n",
    "              loss='binary_crossentropy',\n",
    "              metrics=['accuracy'])"
   ]
  },
  {
   "cell_type": "code",
   "execution_count": null,
   "metadata": {
    "scrolled": true
   },
   "outputs": [],
   "source": [
    "#Running the model\n",
    "model.fit(\n",
    "    X_train,\n",
    "    y_train,\n",
    "    epochs=15,\n",
    "    shuffle=True,\n",
    "    verbose=2\n",
    ")"
   ]
  },
  {
   "cell_type": "code",
   "execution_count": null,
   "metadata": {},
   "outputs": [],
   "source": [
    "X_train[0].shape"
   ]
  },
  {
   "cell_type": "code",
   "execution_count": null,
   "metadata": {},
   "outputs": [],
   "source": [
    "test = X_train[0].reshape(-1,32*32)\n",
    "test1 = X_train[1].reshape(-1,32*32)\n",
    "test2 = X_train[2].reshape(-1,32*32)\n",
    "test3 = X_train[3].reshape(-1,32*32)\n",
    "test4 = X_train[4].reshape(-1,32*32)\n",
    "test5 = X_train[5].reshape(-1,32*32)\n",
    "test6 = X_train[6].reshape(-1,32*32)\n",
    "test7 = X_train[7].reshape(-1,32*32)\n",
    "test8 = X_train[8].reshape(-1,32*32)"
   ]
  },
  {
   "cell_type": "code",
   "execution_count": null,
   "metadata": {},
   "outputs": [],
   "source": [
    "train_label[0]"
   ]
  },
  {
   "cell_type": "code",
   "execution_count": null,
   "metadata": {},
   "outputs": [],
   "source": [
    "X_train[0]"
   ]
  },
  {
   "cell_type": "code",
   "execution_count": null,
   "metadata": {},
   "outputs": [],
   "source": [
    "model.predict(X_train[0])"
   ]
  },
  {
   "cell_type": "code",
   "execution_count": null,
   "metadata": {},
   "outputs": [],
   "source": [
    "model.predict(test)"
   ]
  },
  {
   "cell_type": "code",
   "execution_count": null,
   "metadata": {},
   "outputs": [],
   "source": [
    "model.predict(test1)"
   ]
  },
  {
   "cell_type": "code",
   "execution_count": null,
   "metadata": {},
   "outputs": [],
   "source": [
    "model.predict(test2)"
   ]
  },
  {
   "cell_type": "code",
   "execution_count": null,
   "metadata": {},
   "outputs": [],
   "source": [
    "model.predict(test8)"
   ]
  },
  {
   "cell_type": "code",
   "execution_count": null,
   "metadata": {},
   "outputs": [],
   "source": [
    "train_label.sum()"
   ]
  },
  {
   "cell_type": "code",
   "execution_count": null,
   "metadata": {},
   "outputs": [],
   "source": [
    "results = model.evaluate(X_test, test_label)"
   ]
  },
  {
   "cell_type": "code",
   "execution_count": null,
   "metadata": {},
   "outputs": [],
   "source": [
    "predict = model.predict(X_test).round()"
   ]
  },
  {
   "cell_type": "code",
   "execution_count": null,
   "metadata": {},
   "outputs": [],
   "source": [
    "predict"
   ]
  },
  {
   "cell_type": "code",
   "execution_count": null,
   "metadata": {},
   "outputs": [],
   "source": [
    "-tf.math.confusion_matrix(test_label, predict, num_classes=2)"
   ]
  },
  {
   "cell_type": "code",
   "execution_count": null,
   "metadata": {},
   "outputs": [],
   "source": []
  }
 ],
 "metadata": {
  "kernelspec": {
   "display_name": "Python 3",
   "language": "python",
   "name": "python3"
  },
  "language_info": {
   "codemirror_mode": {
    "name": "ipython",
    "version": 3
   },
   "file_extension": ".py",
   "mimetype": "text/x-python",
   "name": "python",
   "nbconvert_exporter": "python",
   "pygments_lexer": "ipython3",
   "version": "3.8.3"
  }
 },
 "nbformat": 4,
 "nbformat_minor": 4
}
