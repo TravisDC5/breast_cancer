{
 "cells": [
  {
   "cell_type": "code",
   "execution_count": 1,
   "metadata": {},
   "outputs": [],
   "source": [
    "import torch\n",
    "import numpy as np\n",
    "import torchvision.transforms as transforms\n",
    "from sklearn.metrics import confusion_matrix, accuracy_score"
   ]
  },
  {
   "cell_type": "code",
   "execution_count": 2,
   "metadata": {},
   "outputs": [
    {
     "name": "stdout",
     "output_type": "stream",
     "text": [
      "Files already downloaded and verified\n",
      "Files already downloaded and verified\n"
     ]
    }
   ],
   "source": [
    "#import the data\n",
    "from htru1 import HTRU1\n",
    "\n",
    "#Transforms the data. This seems like a required step as I kepts getting errors if I did not include it\n",
    "transform = transforms.Compose([\n",
    "    transforms.RandomHorizontalFlip(), # randomly flip and rotate\n",
    "    transforms.RandomRotation(10),\n",
    "    transforms.ToTensor(),\n",
    "    transforms.Normalize((0.5, 0.5, 0.5), (0.5, 0.5, 0.5))\n",
    "    ])\n",
    "\n",
    "#Specifically import the training data and test data\n",
    "train_data = HTRU1('data', train=True, download=True, transform=transform)\n",
    "test_data = HTRU1('data', train=False, download=True, transform=transform)\n",
    "\n",
    "#Variable setup to extract the data\n",
    "trainloader = torch.utils.data.DataLoader(train_data, batch_size=50000, shuffle=True, num_workers=2)\n",
    "testloader = torch.utils.data.DataLoader(test_data, batch_size=10000, shuffle=True, num_workers=2)\n",
    "\n",
    "#Extracts the data into the features and the labels\n",
    "dataiter = iter(trainloader)\n",
    "train_tensor_images, train_tensor_labels = dataiter.next()\n",
    "dataiter = iter(testloader)\n",
    "test_tensor_images, test_tensor_labels = dataiter.next()\n",
    "\n",
    "#Converts the data to np arrays (found them easier to work with)\n",
    "train_features = np.array(train_tensor_images)\n",
    "train_label = np.array(train_tensor_labels)\n",
    "test_features = np.array(test_tensor_images)\n",
    "test_label = np.array(test_tensor_labels)"
   ]
  },
  {
   "cell_type": "code",
   "execution_count": 3,
   "metadata": {},
   "outputs": [],
   "source": [
    "#transformed the feates from (5000, 3, 32, 32) into (3, 5000, 32, 32)\n",
    "train_features_t = np.transpose(train_features, (1,0,2,3))\n",
    "test_features_t = np.transpose(test_features, (1,0,2,3))"
   ]
  },
  {
   "cell_type": "code",
   "execution_count": 4,
   "metadata": {},
   "outputs": [],
   "source": [
    "#Assigning each layer into their own variable\n",
    "train_layer1 = train_features_t[0]\n",
    "train_layer2 = train_features_t[1]\n",
    "train_layer3 = train_features_t[2]\n",
    "test_layer1 = test_features_t[0]\n",
    "test_layer2 = test_features_t[1]\n",
    "test_layer3 = test_features_t[2]"
   ]
  },
  {
   "cell_type": "code",
   "execution_count": 5,
   "metadata": {},
   "outputs": [],
   "source": [
    "#Flattening the data\n",
    "ndims = train_layer1.shape[1] * train_layer1.shape[2]\n",
    "X_train = train_layer1.reshape(train_layer1.shape[0],ndims)\n",
    "X_test = test_layer1.reshape(test_layer1.shape[0],ndims)"
   ]
  },
  {
   "cell_type": "code",
   "execution_count": 6,
   "metadata": {},
   "outputs": [],
   "source": [
    "X_train_2 = train_layer1.reshape(train_layer2.shape[0],ndims)\n",
    "X_test_2 = test_layer1.reshape(test_layer2.shape[0],ndims)\n",
    "\n",
    "X_train_3 = train_layer1.reshape(train_layer3.shape[0],ndims)\n",
    "X_test_3 = test_layer1.reshape(test_layer3.shape[0],ndims)"
   ]
  },
  {
   "cell_type": "code",
   "execution_count": 7,
   "metadata": {},
   "outputs": [],
   "source": [
    "#renaming the y data\n",
    "y_train = train_label\n",
    "y_test  = test_label"
   ]
  },
  {
   "cell_type": "code",
   "execution_count": 8,
   "metadata": {},
   "outputs": [],
   "source": [
    "#Importing tensorflow\n",
    "import tensorflow as tf\n",
    "from tensorflow import keras\n",
    "from tensorflow.keras.models import Sequential\n",
    "from tensorflow.keras.layers import Dense"
   ]
  },
  {
   "cell_type": "code",
   "execution_count": 12,
   "metadata": {},
   "outputs": [],
   "source": [
    "def build_model():\n",
    "    model = Sequential()\n",
    "    model.add(Dense(512, activation='relu', input_dim=X_train.shape[1]))\n",
    "    model.add(Dense(128, activation='relu'))\n",
    "    model.add(Dense(16, activation='relu'))\n",
    "    model.add(Dense(1, activation='sigmoid'))\n",
    "    return model"
   ]
  },
  {
   "cell_type": "code",
   "execution_count": 13,
   "metadata": {},
   "outputs": [],
   "source": [
    "def compile_model(model,metric):\n",
    "    model.compile(optimizer='adam',\n",
    "              loss='binary_crossentropy',\n",
    "              metrics=[metric])\n",
    "    return model"
   ]
  },
  {
   "cell_type": "code",
   "execution_count": 18,
   "metadata": {},
   "outputs": [],
   "source": [
    "def fit_model(model,epochs):\n",
    "    model.fit(\n",
    "    X_train_3,\n",
    "    y_train,\n",
    "    epochs=epochs,\n",
    "    shuffle=True,\n",
    "    verbose=1\n",
    "    )\n",
    "    return model"
   ]
  },
  {
   "cell_type": "code",
   "execution_count": 25,
   "metadata": {},
   "outputs": [],
   "source": [
    "def run_model(metric,epoch):\n",
    "    built_model = build_model()\n",
    "    compiled_model = compile_model(built_model,metric)\n",
    "    model = fit_model(compiled_model,epoch)\n",
    "    y_pred = model.predict(X_test).round()\n",
    "    cm = confusion_matrix(y_test, y_pred)\n",
    "    print(cm)\n",
    "    TPR = cm[0][0]/(cm[0][0]+cm[1][0])\n",
    "    print((TPR.round(2))*100)\n",
    "    accuracy_score(y_test, y_pred)\n",
    "    print(accuracy_score)\n",
    "    #return model"
   ]
  },
  {
   "cell_type": "code",
   "execution_count": 32,
   "metadata": {
    "scrolled": true
   },
   "outputs": [
    {
     "name": "stdout",
     "output_type": "stream",
     "text": [
      "Epoch 1/10\n",
      "1563/1563 [==============================] - 4s 3ms/step - loss: 0.0662 - accuracy: 0.9829\n",
      "Epoch 2/10\n",
      "1563/1563 [==============================] - 5s 3ms/step - loss: 0.0443 - accuracy: 0.9882\n",
      "Epoch 3/10\n",
      "1563/1563 [==============================] - 4s 3ms/step - loss: 0.0370 - accuracy: 0.9898\n",
      "Epoch 4/10\n",
      "1563/1563 [==============================] - 4s 3ms/step - loss: 0.0331 - accuracy: 0.9907\n",
      "Epoch 5/10\n",
      "1563/1563 [==============================] - 4s 3ms/step - loss: 0.0318 - accuracy: 0.9910\n",
      "Epoch 6/10\n",
      "1563/1563 [==============================] - 4s 3ms/step - loss: 0.0302 - accuracy: 0.9911\n",
      "Epoch 7/10\n",
      "1563/1563 [==============================] - 5s 3ms/step - loss: 0.0297 - accuracy: 0.9910\n",
      "Epoch 8/10\n",
      "1563/1563 [==============================] - 4s 3ms/step - loss: 0.0281 - accuracy: 0.9918\n",
      "Epoch 9/10\n",
      "1563/1563 [==============================] - 4s 3ms/step - loss: 0.0285 - accuracy: 0.9917\n",
      "Epoch 10/10\n",
      "1563/1563 [==============================] - 4s 3ms/step - loss: 0.0273 - accuracy: 0.9918\n",
      "[[ 132   67]\n",
      " [  28 9773]]\n",
      "82.0\n",
      "<function accuracy_score at 0x000001339A357040>\n"
     ]
    }
   ],
   "source": [
    "#y_pred = run_model('accuracy',10)\n",
    "run_model('accuracy',10)"
   ]
  },
  {
   "cell_type": "code",
   "execution_count": 27,
   "metadata": {
    "scrolled": true
   },
   "outputs": [
    {
     "name": "stdout",
     "output_type": "stream",
     "text": [
      "Epoch 1/25\n",
      "1563/1563 [==============================] - 4s 2ms/step - loss: 0.0639 - accuracy: 0.9833\n",
      "Epoch 2/25\n",
      "1563/1563 [==============================] - 4s 3ms/step - loss: 0.0443 - accuracy: 0.9878\n",
      "Epoch 3/25\n",
      "1563/1563 [==============================] - 4s 3ms/step - loss: 0.0387 - accuracy: 0.9892\n",
      "Epoch 4/25\n",
      "1563/1563 [==============================] - 4s 2ms/step - loss: 0.0350 - accuracy: 0.9898\n",
      "Epoch 5/25\n",
      "1563/1563 [==============================] - 4s 2ms/step - loss: 0.0323 - accuracy: 0.9903\n",
      "Epoch 6/25\n",
      "1563/1563 [==============================] - 4s 2ms/step - loss: 0.0318 - accuracy: 0.9911\n",
      "Epoch 7/25\n",
      "1563/1563 [==============================] - 4s 2ms/step - loss: 0.0300 - accuracy: 0.9913\n",
      "Epoch 8/25\n",
      "1563/1563 [==============================] - 4s 2ms/step - loss: 0.0286 - accuracy: 0.9910\n",
      "Epoch 9/25\n",
      "1563/1563 [==============================] - 4s 2ms/step - loss: 0.0268 - accuracy: 0.9918\n",
      "Epoch 10/25\n",
      "1563/1563 [==============================] - 4s 2ms/step - loss: 0.0272 - accuracy: 0.9916\n",
      "Epoch 11/25\n",
      "1563/1563 [==============================] - 4s 2ms/step - loss: 0.0264 - accuracy: 0.9920\n",
      "Epoch 12/25\n",
      "1563/1563 [==============================] - 4s 2ms/step - loss: 0.0269 - accuracy: 0.9918\n",
      "Epoch 13/25\n",
      "1563/1563 [==============================] - 4s 2ms/step - loss: 0.0251 - accuracy: 0.9924\n",
      "Epoch 14/25\n",
      "1563/1563 [==============================] - 4s 2ms/step - loss: 0.0242 - accuracy: 0.9926\n",
      "Epoch 15/25\n",
      "1563/1563 [==============================] - 4s 2ms/step - loss: 0.0244 - accuracy: 0.9924\n",
      "Epoch 16/25\n",
      "1563/1563 [==============================] - 4s 2ms/step - loss: 0.0229 - accuracy: 0.9930\n",
      "Epoch 17/25\n",
      "1563/1563 [==============================] - 4s 2ms/step - loss: 0.0223 - accuracy: 0.9925\n",
      "Epoch 18/25\n",
      "1563/1563 [==============================] - 4s 2ms/step - loss: 0.0216 - accuracy: 0.9930\n",
      "Epoch 19/25\n",
      "1563/1563 [==============================] - ETA: 0s - loss: 0.0218 - accuracy: 0.99 - 4s 2ms/step - loss: 0.0217 - accuracy: 0.9933\n",
      "Epoch 20/25\n",
      "1563/1563 [==============================] - 4s 2ms/step - loss: 0.0207 - accuracy: 0.9932\n",
      "Epoch 21/25\n",
      "1563/1563 [==============================] - 4s 2ms/step - loss: 0.0202 - accuracy: 0.9934\n",
      "Epoch 22/25\n",
      "1563/1563 [==============================] - 4s 2ms/step - loss: 0.0200 - accuracy: 0.9933\n",
      "Epoch 23/25\n",
      "1563/1563 [==============================] - 4s 2ms/step - loss: 0.0194 - accuracy: 0.9935\n",
      "Epoch 24/25\n",
      "1563/1563 [==============================] - 4s 2ms/step - loss: 0.0191 - accuracy: 0.9937\n",
      "Epoch 25/25\n",
      "1563/1563 [==============================] - 4s 2ms/step - loss: 0.0191 - accuracy: 0.9936\n",
      "[[ 139   60]\n",
      " [  37 9764]]\n",
      "79.0\n",
      "<function accuracy_score at 0x000001339A357040>\n"
     ]
    }
   ],
   "source": [
    "run_model('accuracy',25)"
   ]
  },
  {
   "cell_type": "code",
   "execution_count": 28,
   "metadata": {
    "scrolled": true
   },
   "outputs": [
    {
     "name": "stdout",
     "output_type": "stream",
     "text": [
      "Epoch 1/15\n",
      "1563/1563 [==============================] - 4s 2ms/step - loss: 0.0642 - accuracy: 0.9840\n",
      "Epoch 2/15\n",
      "1563/1563 [==============================] - 4s 2ms/step - loss: 0.0443 - accuracy: 0.9881\n",
      "Epoch 3/15\n",
      "1563/1563 [==============================] - 4s 3ms/step - loss: 0.0374 - accuracy: 0.9888\n",
      "Epoch 4/15\n",
      "1563/1563 [==============================] - 4s 2ms/step - loss: 0.0356 - accuracy: 0.9899\n",
      "Epoch 5/15\n",
      "1563/1563 [==============================] - 4s 2ms/step - loss: 0.0336 - accuracy: 0.9903\n",
      "Epoch 6/15\n",
      "1563/1563 [==============================] - 4s 2ms/step - loss: 0.0309 - accuracy: 0.9911\n",
      "Epoch 7/15\n",
      "1563/1563 [==============================] - 4s 2ms/step - loss: 0.0298 - accuracy: 0.9911\n",
      "Epoch 8/15\n",
      "1563/1563 [==============================] - 4s 2ms/step - loss: 0.0292 - accuracy: 0.9915\n",
      "Epoch 9/15\n",
      "1563/1563 [==============================] - 4s 2ms/step - loss: 0.0278 - accuracy: 0.9915\n",
      "Epoch 10/15\n",
      "1563/1563 [==============================] - 4s 2ms/step - loss: 0.0269 - accuracy: 0.9920\n",
      "Epoch 11/15\n",
      "1563/1563 [==============================] - 4s 2ms/step - loss: 0.0263 - accuracy: 0.9920\n",
      "Epoch 12/15\n",
      "1563/1563 [==============================] - 4s 3ms/step - loss: 0.0257 - accuracy: 0.9923\n",
      "Epoch 13/15\n",
      "1563/1563 [==============================] - 4s 2ms/step - loss: 0.0258 - accuracy: 0.9921\n",
      "Epoch 14/15\n",
      "1563/1563 [==============================] - 4s 3ms/step - loss: 0.0240 - accuracy: 0.9927\n",
      "Epoch 15/15\n",
      "1563/1563 [==============================] - 4s 2ms/step - loss: 0.0223 - accuracy: 0.9930\n",
      "[[ 133   66]\n",
      " [  27 9774]]\n",
      "83.0\n",
      "<function accuracy_score at 0x000001339A357040>\n"
     ]
    }
   ],
   "source": [
    "run_model('Recall',15)"
   ]
  },
  {
   "cell_type": "code",
   "execution_count": 29,
   "metadata": {
    "scrolled": true
   },
   "outputs": [
    {
     "name": "stdout",
     "output_type": "stream",
     "text": [
      "Epoch 1/15\n",
      "1563/1563 [==============================] - 4s 3ms/step - loss: 0.0672 - accuracy: 0.9829\n",
      "Epoch 2/15\n",
      "1563/1563 [==============================] - 4s 2ms/step - loss: 0.0440 - accuracy: 0.9879\n",
      "Epoch 3/15\n",
      "1563/1563 [==============================] - 3s 2ms/step - loss: 0.0383 - accuracy: 0.9894\n",
      "Epoch 4/15\n",
      "1563/1563 [==============================] - 3s 2ms/step - loss: 0.0333 - accuracy: 0.9905\n",
      "Epoch 5/15\n",
      "1563/1563 [==============================] - 4s 2ms/step - loss: 0.0330 - accuracy: 0.9907\n",
      "Epoch 6/15\n",
      "1563/1563 [==============================] - 4s 3ms/step - loss: 0.0306 - accuracy: 0.9911\n",
      "Epoch 7/15\n",
      "1563/1563 [==============================] - 4s 3ms/step - loss: 0.0284 - accuracy: 0.9916\n",
      "Epoch 8/15\n",
      "1563/1563 [==============================] - 4s 2ms/step - loss: 0.0286 - accuracy: 0.9911\n",
      "Epoch 9/15\n",
      "1563/1563 [==============================] - 4s 2ms/step - loss: 0.0273 - accuracy: 0.9918\n",
      "Epoch 10/15\n",
      "1563/1563 [==============================] - 4s 2ms/step - loss: 0.0281 - accuracy: 0.9913\n",
      "Epoch 11/15\n",
      "1563/1563 [==============================] - 4s 2ms/step - loss: 0.0264 - accuracy: 0.9921\n",
      "Epoch 12/15\n",
      "1563/1563 [==============================] - 4s 2ms/step - loss: 0.0260 - accuracy: 0.9923\n",
      "Epoch 13/15\n",
      "1563/1563 [==============================] - 4s 2ms/step - loss: 0.0256 - accuracy: 0.9922\n",
      "Epoch 14/15\n",
      "1563/1563 [==============================] - 4s 2ms/step - loss: 0.0235 - accuracy: 0.9924\n",
      "Epoch 15/15\n",
      "1563/1563 [==============================] - 4s 3ms/step - loss: 0.0225 - accuracy: 0.9932\n",
      "[[ 146   53]\n",
      " [  54 9747]]\n",
      "73.0\n",
      "<function accuracy_score at 0x000001339A357040>\n"
     ]
    }
   ],
   "source": [
    "run_model('TruePositives',15)"
   ]
  },
  {
   "cell_type": "code",
   "execution_count": 30,
   "metadata": {
    "scrolled": true
   },
   "outputs": [
    {
     "name": "stdout",
     "output_type": "stream",
     "text": [
      "Epoch 1/15\n",
      "1563/1563 [==============================] - 4s 2ms/step - loss: 0.0673 - accuracy: 0.9797\n",
      "Epoch 2/15\n",
      "1563/1563 [==============================] - 4s 2ms/step - loss: 0.0497 - accuracy: 0.9801\n",
      "Epoch 3/15\n",
      "1563/1563 [==============================] - 4s 2ms/step - loss: 0.0432 - accuracy: 0.9839\n",
      "Epoch 4/15\n",
      "1563/1563 [==============================] - 4s 2ms/step - loss: 0.0385 - accuracy: 0.9893\n",
      "Epoch 5/15\n",
      "1563/1563 [==============================] - 4s 2ms/step - loss: 0.0330 - accuracy: 0.9900\n",
      "Epoch 6/15\n",
      "1563/1563 [==============================] - 4s 3ms/step - loss: 0.0314 - accuracy: 0.9908\n",
      "Epoch 7/15\n",
      "1563/1563 [==============================] - 4s 2ms/step - loss: 0.0309 - accuracy: 0.9908\n",
      "Epoch 8/15\n",
      "1563/1563 [==============================] - 4s 2ms/step - loss: 0.0294 - accuracy: 0.9911\n",
      "Epoch 9/15\n",
      "1563/1563 [==============================] - 4s 2ms/step - loss: 0.0270 - accuracy: 0.9912\n",
      "Epoch 10/15\n",
      "1563/1563 [==============================] - 5s 3ms/step - loss: 0.0270 - accuracy: 0.9911\n",
      "Epoch 11/15\n",
      "1563/1563 [==============================] - 4s 3ms/step - loss: 0.0254 - accuracy: 0.9919\n",
      "Epoch 12/15\n",
      "1563/1563 [==============================] - 4s 2ms/step - loss: 0.0252 - accuracy: 0.9922\n",
      "Epoch 13/15\n",
      "1563/1563 [==============================] - 4s 2ms/step - loss: 0.0239 - accuracy: 0.9925: 0s - l\n",
      "Epoch 14/15\n",
      "1563/1563 [==============================] - 4s 2ms/step - loss: 0.0242 - accuracy: 0.9922\n",
      "Epoch 15/15\n",
      "1563/1563 [==============================] - 4s 2ms/step - loss: 0.0227 - accuracy: 0.9929\n",
      "[[ 154   45]\n",
      " [  70 9731]]\n",
      "69.0\n",
      "<function accuracy_score at 0x000001339A357040>\n"
     ]
    }
   ],
   "source": [
    "run_model('Precision',15)"
   ]
  },
  {
   "cell_type": "code",
   "execution_count": null,
   "metadata": {},
   "outputs": [],
   "source": []
  },
  {
   "cell_type": "code",
   "execution_count": null,
   "metadata": {},
   "outputs": [],
   "source": []
  }
 ],
 "metadata": {
  "kernelspec": {
   "display_name": "Python 3",
   "language": "python",
   "name": "python3"
  },
  "language_info": {
   "codemirror_mode": {
    "name": "ipython",
    "version": 3
   },
   "file_extension": ".py",
   "mimetype": "text/x-python",
   "name": "python",
   "nbconvert_exporter": "python",
   "pygments_lexer": "ipython3",
   "version": "3.8.3"
  }
 },
 "nbformat": 4,
 "nbformat_minor": 4
}
